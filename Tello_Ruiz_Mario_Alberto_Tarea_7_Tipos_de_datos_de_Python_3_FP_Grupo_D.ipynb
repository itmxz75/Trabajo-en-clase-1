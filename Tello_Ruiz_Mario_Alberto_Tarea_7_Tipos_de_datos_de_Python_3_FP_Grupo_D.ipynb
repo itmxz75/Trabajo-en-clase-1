{
  "nbformat": 4,
  "nbformat_minor": 0,
  "metadata": {
    "colab": {
      "provenance": [],
      "authorship_tag": "ABX9TyNS6uc11vvA2k9PzUFYQpiN",
      "include_colab_link": true
    },
    "kernelspec": {
      "name": "python3",
      "display_name": "Python 3"
    },
    "language_info": {
      "name": "python"
    }
  },
  "cells": [
    {
      "cell_type": "markdown",
      "metadata": {
        "id": "view-in-github",
        "colab_type": "text"
      },
      "source": [
        "<a href=\"https://colab.research.google.com/github/itmxz75/Trabajo-en-clase-1/blob/main/Tello_Ruiz_Mario_Alberto_Tarea_7_Tipos_de_datos_de_Python_3_FP_Grupo_D.ipynb\" target=\"_parent\"><img src=\"https://colab.research.google.com/assets/colab-badge.svg\" alt=\"Open In Colab\"/></a>"
      ]
    },
    {
      "cell_type": "code",
      "execution_count": null,
      "metadata": {
        "colab": {
          "base_uri": "https://localhost:8080/"
        },
        "id": "b0QvqeNB5car",
        "outputId": "8cd9017d-5083-4894-9047-9423050ab611"
      },
      "outputs": [
        {
          "output_type": "stream",
          "name": "stdout",
          "text": [
            "Entero: 42\n",
            "Decimal: 3.14\n",
            "Booleano: True\n",
            "Texto: Hola mundo\n",
            "Complejo: (2+3j)\n",
            "None: None\n",
            "Lista: [1, 2, 3]\n",
            "Tupla: (1, 2, 3)\n",
            "Set: {1, 2, 3}\n",
            "Diccionario: {'a': 1, 'b': 2}\n",
            "Range: [0, 1, 2, 3, 4]\n",
            "Bytes: b'hola'\n",
            "Bytearray: bytearray(b'hola')\n"
          ]
        }
      ],
      "source": [
        "# Tipos de datos en Python\n",
        "\n",
        "# Escalares\n",
        "entero = 42\n",
        "decimal = 3.14\n",
        "booleano = True\n",
        "texto = \"Hola mundo\"\n",
        "complejo = 2 + 3j\n",
        "nulo = None\n",
        "\n",
        "# Colecciones\n",
        "lista = [1, 2, 3]\n",
        "tupla = (1, 2, 3)\n",
        "conjunto = {1, 2, 3}\n",
        "diccionario = {\"a\": 1, \"b\": 2}\n",
        "rango = range(0, 5)\n",
        "bytes_inmutables = b\"hola\"\n",
        "bytes_mutables = bytearray(b\"hola\")\n",
        "\n",
        "# Mostrar los valores\n",
        "print(\"Entero:\", entero)\n",
        "print(\"Decimal:\", decimal)\n",
        "print(\"Booleano:\", booleano)\n",
        "print(\"Texto:\", texto)\n",
        "print(\"Complejo:\", complejo)\n",
        "print(\"None:\", nulo)\n",
        "print(\"Lista:\", lista)\n",
        "print(\"Tupla:\", tupla)\n",
        "print(\"Set:\", conjunto)\n",
        "print(\"Diccionario:\", diccionario)\n",
        "print(\"Range:\", list(rango))\n",
        "print(\"Bytes:\", bytes_inmutables)\n",
        "print(\"Bytearray:\", bytes_mutables)\n"
      ]
    }
  ]
}